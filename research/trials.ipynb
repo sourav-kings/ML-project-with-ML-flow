{
 "cells": [
  {
   "cell_type": "code",
   "execution_count": null,
   "id": "6323764c",
   "metadata": {},
   "outputs": [],
   "source": []
  }
 ],
 "metadata": {
  "kernelspec": {
   "display_name": "mlproj",
   "language": "python",
   "name": "python3"
  },
  "language_info": {
   "name": "python",
   "version": "3.10.18"
  }
 },
 "nbformat": 4,
 "nbformat_minor": 5
}
